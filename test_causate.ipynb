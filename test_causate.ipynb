{
 "cells": [
  {
   "cell_type": "code",
   "execution_count": 2,
   "metadata": {},
   "outputs": [
    {
     "name": "stderr",
     "output_type": "stream",
     "text": [
      "2024-11-30 16:48:39,759 - c:\\personal\\coding\\causal-factory\\local_venv\\Lib\\site-packages\\castle\\backend\\__init__.py[line:36] - INFO: You can use `os.environ['CASTLE_BACKEND'] = backend` to set the backend(`pytorch` or `mindspore`).\n",
      "2024-11-30 16:48:39,876 - c:\\personal\\coding\\causal-factory\\local_venv\\Lib\\site-packages\\castle\\algorithms\\__init__.py[line:36] - INFO: You are using ``pytorch`` as the backend.\n"
     ]
    }
   ],
   "source": [
    "from core import CausalFactory\n",
    "import pandas as pd"
   ]
  },
  {
   "cell_type": "code",
   "execution_count": 3,
   "metadata": {},
   "outputs": [
    {
     "data": {
      "text/html": [
       "<div>\n",
       "<style scoped>\n",
       "    .dataframe tbody tr th:only-of-type {\n",
       "        vertical-align: middle;\n",
       "    }\n",
       "\n",
       "    .dataframe tbody tr th {\n",
       "        vertical-align: top;\n",
       "    }\n",
       "\n",
       "    .dataframe thead th {\n",
       "        text-align: right;\n",
       "    }\n",
       "</style>\n",
       "<table border=\"1\" class=\"dataframe\">\n",
       "  <thead>\n",
       "    <tr style=\"text-align: right;\">\n",
       "      <th></th>\n",
       "      <th>U0</th>\n",
       "      <th>U1</th>\n",
       "      <th>U2</th>\n",
       "      <th>U3</th>\n",
       "      <th>U4</th>\n",
       "      <th>U5</th>\n",
       "      <th>U6</th>\n",
       "    </tr>\n",
       "  </thead>\n",
       "  <tbody>\n",
       "    <tr>\n",
       "      <th>0</th>\n",
       "      <td>-0.083224</td>\n",
       "      <td>2.387427</td>\n",
       "      <td>1.460524</td>\n",
       "      <td>1.971073</td>\n",
       "      <td>0.218520</td>\n",
       "      <td>0.865877</td>\n",
       "      <td>0.199954</td>\n",
       "    </tr>\n",
       "    <tr>\n",
       "      <th>1</th>\n",
       "      <td>0.690312</td>\n",
       "      <td>4.924978</td>\n",
       "      <td>4.586578</td>\n",
       "      <td>4.055415</td>\n",
       "      <td>0.172857</td>\n",
       "      <td>4.092845</td>\n",
       "      <td>1.081922</td>\n",
       "    </tr>\n",
       "    <tr>\n",
       "      <th>2</th>\n",
       "      <td>0.837289</td>\n",
       "      <td>1.679108</td>\n",
       "      <td>0.922493</td>\n",
       "      <td>1.373564</td>\n",
       "      <td>-2.263137</td>\n",
       "      <td>-1.268165</td>\n",
       "      <td>1.166444</td>\n",
       "    </tr>\n",
       "    <tr>\n",
       "      <th>3</th>\n",
       "      <td>0.268892</td>\n",
       "      <td>-0.786437</td>\n",
       "      <td>-0.456814</td>\n",
       "      <td>-1.017827</td>\n",
       "      <td>-0.127997</td>\n",
       "      <td>-2.440277</td>\n",
       "      <td>-0.443029</td>\n",
       "    </tr>\n",
       "    <tr>\n",
       "      <th>4</th>\n",
       "      <td>-0.582213</td>\n",
       "      <td>-2.742535</td>\n",
       "      <td>-1.620262</td>\n",
       "      <td>-1.435135</td>\n",
       "      <td>-0.008020</td>\n",
       "      <td>-0.703239</td>\n",
       "      <td>-1.646426</td>\n",
       "    </tr>\n",
       "  </tbody>\n",
       "</table>\n",
       "</div>"
      ],
      "text/plain": [
       "         U0        U1        U2        U3        U4        U5        U6\n",
       "0 -0.083224  2.387427  1.460524  1.971073  0.218520  0.865877  0.199954\n",
       "1  0.690312  4.924978  4.586578  4.055415  0.172857  4.092845  1.081922\n",
       "2  0.837289  1.679108  0.922493  1.373564 -2.263137 -1.268165  1.166444\n",
       "3  0.268892 -0.786437 -0.456814 -1.017827 -0.127997 -2.440277 -0.443029\n",
       "4 -0.582213 -2.742535 -1.620262 -1.435135 -0.008020 -0.703239 -1.646426"
      ]
     },
     "execution_count": 3,
     "metadata": {},
     "output_type": "execute_result"
    }
   ],
   "source": [
    "data=pd.read_csv(\"data/dataset.csv\")\n",
    "data.head()"
   ]
  },
  {
   "cell_type": "code",
   "execution_count": 5,
   "metadata": {},
   "outputs": [
    {
     "name": "stderr",
     "output_type": "stream",
     "text": [
      "2024-11-30 16:48:43 - INFO: CausalFactory initialized in 'create' mode.\n"
     ]
    }
   ],
   "source": [
    "cf = CausalFactory(mode=\"create\",\n",
    "                algorithm=\"PC\",\n",
    "                algorithm_params={\"variant\":'original',\n",
    "                                \"alpha\":0.9,\n",
    "                                \"ci_test\":'fisherz'\n",
    "                                },\n",
    "                max_features=10                  \n",
    "            )"
   ]
  },
  {
   "cell_type": "code",
   "execution_count": 7,
   "metadata": {},
   "outputs": [
    {
     "name": "stderr",
     "output_type": "stream",
     "text": [
      "2024-11-30 16:48:45 - INFO: Discovering causal graph using 'PC' algorithm.\n",
      "2024-11-30 16:48:45 - INFO: Causal graph discovery complete.\n"
     ]
    },
    {
     "data": {
      "text/html": [
       "<div>\n",
       "<style scoped>\n",
       "    .dataframe tbody tr th:only-of-type {\n",
       "        vertical-align: middle;\n",
       "    }\n",
       "\n",
       "    .dataframe tbody tr th {\n",
       "        vertical-align: top;\n",
       "    }\n",
       "\n",
       "    .dataframe thead th {\n",
       "        text-align: right;\n",
       "    }\n",
       "</style>\n",
       "<table border=\"1\" class=\"dataframe\">\n",
       "  <thead>\n",
       "    <tr style=\"text-align: right;\">\n",
       "      <th></th>\n",
       "      <th>U0</th>\n",
       "      <th>U1</th>\n",
       "      <th>U2</th>\n",
       "      <th>U3</th>\n",
       "      <th>U4</th>\n",
       "      <th>U5</th>\n",
       "      <th>U6</th>\n",
       "    </tr>\n",
       "  </thead>\n",
       "  <tbody>\n",
       "    <tr>\n",
       "      <th>U0</th>\n",
       "      <td>0</td>\n",
       "      <td>0</td>\n",
       "      <td>1</td>\n",
       "      <td>1</td>\n",
       "      <td>0</td>\n",
       "      <td>1</td>\n",
       "      <td>0</td>\n",
       "    </tr>\n",
       "    <tr>\n",
       "      <th>U1</th>\n",
       "      <td>0</td>\n",
       "      <td>0</td>\n",
       "      <td>1</td>\n",
       "      <td>0</td>\n",
       "      <td>0</td>\n",
       "      <td>1</td>\n",
       "      <td>0</td>\n",
       "    </tr>\n",
       "    <tr>\n",
       "      <th>U2</th>\n",
       "      <td>0</td>\n",
       "      <td>0</td>\n",
       "      <td>0</td>\n",
       "      <td>0</td>\n",
       "      <td>0</td>\n",
       "      <td>0</td>\n",
       "      <td>0</td>\n",
       "    </tr>\n",
       "    <tr>\n",
       "      <th>U3</th>\n",
       "      <td>1</td>\n",
       "      <td>0</td>\n",
       "      <td>0</td>\n",
       "      <td>0</td>\n",
       "      <td>1</td>\n",
       "      <td>1</td>\n",
       "      <td>0</td>\n",
       "    </tr>\n",
       "    <tr>\n",
       "      <th>U4</th>\n",
       "      <td>0</td>\n",
       "      <td>0</td>\n",
       "      <td>1</td>\n",
       "      <td>0</td>\n",
       "      <td>0</td>\n",
       "      <td>1</td>\n",
       "      <td>0</td>\n",
       "    </tr>\n",
       "    <tr>\n",
       "      <th>U5</th>\n",
       "      <td>0</td>\n",
       "      <td>0</td>\n",
       "      <td>0</td>\n",
       "      <td>0</td>\n",
       "      <td>0</td>\n",
       "      <td>0</td>\n",
       "      <td>0</td>\n",
       "    </tr>\n",
       "    <tr>\n",
       "      <th>U6</th>\n",
       "      <td>0</td>\n",
       "      <td>1</td>\n",
       "      <td>1</td>\n",
       "      <td>0</td>\n",
       "      <td>1</td>\n",
       "      <td>0</td>\n",
       "      <td>0</td>\n",
       "    </tr>\n",
       "  </tbody>\n",
       "</table>\n",
       "</div>"
      ],
      "text/plain": [
       "    U0  U1  U2  U3  U4  U5  U6\n",
       "U0   0   0   1   1   0   1   0\n",
       "U1   0   0   1   0   0   1   0\n",
       "U2   0   0   0   0   0   0   0\n",
       "U3   1   0   0   0   1   1   0\n",
       "U4   0   0   1   0   0   1   0\n",
       "U5   0   0   0   0   0   0   0\n",
       "U6   0   1   1   0   1   0   0"
      ]
     },
     "execution_count": 7,
     "metadata": {},
     "output_type": "execute_result"
    }
   ],
   "source": [
    "causal_matrix=cf.discover_causal_graph(data)\n",
    "causal_matrix"
   ]
  },
  {
   "cell_type": "code",
   "execution_count": 8,
   "metadata": {},
   "outputs": [
    {
     "name": "stdout",
     "output_type": "stream",
     "text": [
      "Hint: for better visibility, adjust layout parameters (e.g., layout_seed), supported layouts: ['spring', 'random']\n"
     ]
    },
    {
     "data": {
      "image/png": "[encoded data removed]",
      "text/plain": [
       "<Figure size 500x500 with 1 Axes>"
      ]
     },
     "metadata": {},
     "output_type": "display_data"
    }
   ],
   "source": [
    "cf.plot_causal_graph(causal_matrix_dataframe=causal_matrix, layout=\"random\", layout_seed=51)"
   ]
  },
  {
   "cell_type": "code",
   "execution_count": 9,
   "metadata": {},
   "outputs": [
    {
     "name": "stderr",
     "output_type": "stream",
     "text": [
      "2024-11-30 16:48:47 - INFO: Logging causal model to 'mlflow_server'.\n",
      "2024-11-30 16:48:47 - INFO: Inferring model signature with max_features=10.\n",
      "2024-11-30 16:48:47 - INFO: Temporary model file 'PC_causal_model.py' created successfully.\n",
      "2024-11-30 16:48:47 - INFO: No experiment name provided. Defaulting to 'causal_matrix_PC'.\n",
      "2024-11-30 16:48:48 - INFO: Logging model artifacts.\n",
      "Registered model 'PC_model' already exists. Creating a new version of this model...\n",
      "Created version '38' of model 'PC_model'.\n",
      "c:\\personal\\coding\\causal-factory\\local_venv\\Lib\\site-packages\\tqdm\\auto.py:21: TqdmWarning: IProgress not found. Please update jupyter and ipywidgets. See https://ipywidgets.readthedocs.io/en/stable/user_install.html\n",
      "  from .autonotebook import tqdm as notebook_tqdm\n",
      "Downloading artifacts: 100%|██████████| 7/7 [00:00<00:00, 2341.88it/s]\n",
      "2024-11-30 16:48:54 - INFO: Causal model logged successfully. Info: <mlflow.models.model.ModelInfo object at 0x000001CF4D2F4DD0>\n",
      "2024-11-30 16:48:54 - INFO: Temporary file 'PC_causal_model.py' deleted successfully.\n"
     ]
    }
   ],
   "source": [
    "cf.log_causal_model()"
   ]
  },
  {
   "cell_type": "markdown",
   "metadata": {},
   "source": [
    "### Prediction"
   ]
  },
  {
   "cell_type": "code",
   "execution_count": 11,
   "metadata": {},
   "outputs": [
    {
     "name": "stderr",
     "output_type": "stream",
     "text": [
      "2024-11-30 16:49:23 - INFO: CausalFactory initialized in 'infer' mode.\n"
     ]
    }
   ],
   "source": [
    "cf_predict=CausalFactory(mode=\"infer\")"
   ]
  },
  {
   "cell_type": "code",
   "execution_count": null,
   "metadata": {},
   "outputs": [
    {
     "name": "stderr",
     "output_type": "stream",
     "text": [
      "2024-11-30 16:49:41 - INFO: Loading causal model from 'runs:/9fb8caa608324ef385c631d785d8408b/model'.\n",
      "2024-11-30 16:49:41 - INFO: Causal model loaded successfully: \n"
     ]
    },
    {
     "name": "stdout",
     "output_type": "stream",
     "text": [
      "{'algorithm': 'PC', 'params': {'variant': 'original', 'alpha': 0.9, 'ci_test': 'fisherz'}, 'max_features': 10}\n"
     ]
    }
   ],
   "source": [
    "logged_model = 'runs:/9fb8caa608324ef385c631d785d8408b/model'\n",
    "# Load model as a PyFuncModel.\n",
    "cf_predict.load_causal_model(logged_model)\n",
    "print(cf_predict.model_metadata)"
   ]
  },
  {
   "cell_type": "code",
   "execution_count": 13,
   "metadata": {},
   "outputs": [
    {
     "data": {
      "text/html": [
       "<div>\n",
       "<style scoped>\n",
       "    .dataframe tbody tr th:only-of-type {\n",
       "        vertical-align: middle;\n",
       "    }\n",
       "\n",
       "    .dataframe tbody tr th {\n",
       "        vertical-align: top;\n",
       "    }\n",
       "\n",
       "    .dataframe thead th {\n",
       "        text-align: right;\n",
       "    }\n",
       "</style>\n",
       "<table border=\"1\" class=\"dataframe\">\n",
       "  <thead>\n",
       "    <tr style=\"text-align: right;\">\n",
       "      <th></th>\n",
       "      <th>U0</th>\n",
       "      <th>U1</th>\n",
       "      <th>U2</th>\n",
       "      <th>U3</th>\n",
       "      <th>U4</th>\n",
       "      <th>U5</th>\n",
       "      <th>U6</th>\n",
       "    </tr>\n",
       "  </thead>\n",
       "  <tbody>\n",
       "    <tr>\n",
       "      <th>0</th>\n",
       "      <td>-0.083224</td>\n",
       "      <td>2.387427</td>\n",
       "      <td>1.460524</td>\n",
       "      <td>1.971073</td>\n",
       "      <td>0.218520</td>\n",
       "      <td>0.865877</td>\n",
       "      <td>0.199954</td>\n",
       "    </tr>\n",
       "    <tr>\n",
       "      <th>1</th>\n",
       "      <td>0.690312</td>\n",
       "      <td>4.924978</td>\n",
       "      <td>4.586578</td>\n",
       "      <td>4.055415</td>\n",
       "      <td>0.172857</td>\n",
       "      <td>4.092845</td>\n",
       "      <td>1.081922</td>\n",
       "    </tr>\n",
       "    <tr>\n",
       "      <th>2</th>\n",
       "      <td>0.837289</td>\n",
       "      <td>1.679108</td>\n",
       "      <td>0.922493</td>\n",
       "      <td>1.373564</td>\n",
       "      <td>-2.263137</td>\n",
       "      <td>-1.268165</td>\n",
       "      <td>1.166444</td>\n",
       "    </tr>\n",
       "    <tr>\n",
       "      <th>3</th>\n",
       "      <td>0.268892</td>\n",
       "      <td>-0.786437</td>\n",
       "      <td>-0.456814</td>\n",
       "      <td>-1.017827</td>\n",
       "      <td>-0.127997</td>\n",
       "      <td>-2.440277</td>\n",
       "      <td>-0.443029</td>\n",
       "    </tr>\n",
       "    <tr>\n",
       "      <th>4</th>\n",
       "      <td>-0.582213</td>\n",
       "      <td>-2.742535</td>\n",
       "      <td>-1.620262</td>\n",
       "      <td>-1.435135</td>\n",
       "      <td>-0.008020</td>\n",
       "      <td>-0.703239</td>\n",
       "      <td>-1.646426</td>\n",
       "    </tr>\n",
       "  </tbody>\n",
       "</table>\n",
       "</div>"
      ],
      "text/plain": [
       "         U0        U1        U2        U3        U4        U5        U6\n",
       "0 -0.083224  2.387427  1.460524  1.971073  0.218520  0.865877  0.199954\n",
       "1  0.690312  4.924978  4.586578  4.055415  0.172857  4.092845  1.081922\n",
       "2  0.837289  1.679108  0.922493  1.373564 -2.263137 -1.268165  1.166444\n",
       "3  0.268892 -0.786437 -0.456814 -1.017827 -0.127997 -2.440277 -0.443029\n",
       "4 -0.582213 -2.742535 -1.620262 -1.435135 -0.008020 -0.703239 -1.646426"
      ]
     },
     "execution_count": 13,
     "metadata": {},
     "output_type": "execute_result"
    }
   ],
   "source": [
    "data=pd.read_csv(\"data/dataset.csv\")\n",
    "data.head()"
   ]
  },
  {
   "cell_type": "code",
   "execution_count": 14,
   "metadata": {},
   "outputs": [
    {
     "name": "stderr",
     "output_type": "stream",
     "text": [
      "2024-11-30 16:49:44 - INFO: Data schema extracted: ['U2', 'U3']\n",
      "2024-11-30 16:49:44 - INFO: Schema mapped for causal model inference.\n"
     ]
    },
    {
     "data": {
      "text/html": [
       "<div>\n",
       "<style scoped>\n",
       "    .dataframe tbody tr th:only-of-type {\n",
       "        vertical-align: middle;\n",
       "    }\n",
       "\n",
       "    .dataframe tbody tr th {\n",
       "        vertical-align: top;\n",
       "    }\n",
       "\n",
       "    .dataframe thead th {\n",
       "        text-align: right;\n",
       "    }\n",
       "</style>\n",
       "<table border=\"1\" class=\"dataframe\">\n",
       "  <thead>\n",
       "    <tr style=\"text-align: right;\">\n",
       "      <th></th>\n",
       "      <th>U2</th>\n",
       "      <th>U3</th>\n",
       "    </tr>\n",
       "  </thead>\n",
       "  <tbody>\n",
       "    <tr>\n",
       "      <th>U2</th>\n",
       "      <td>0</td>\n",
       "      <td>1</td>\n",
       "    </tr>\n",
       "    <tr>\n",
       "      <th>U3</th>\n",
       "      <td>1</td>\n",
       "      <td>0</td>\n",
       "    </tr>\n",
       "  </tbody>\n",
       "</table>\n",
       "</div>"
      ],
      "text/plain": [
       "    U2  U3\n",
       "U2   0   1\n",
       "U3   1   0"
      ]
     },
     "execution_count": 14,
     "metadata": {},
     "output_type": "execute_result"
    }
   ],
   "source": [
    "predicted_causal_matrix=cf_predict.infer_causal_model(pd.DataFrame(data.iloc[:,2:4]))\n",
    "predicted_causal_matrix"
   ]
  },
  {
   "cell_type": "code",
   "execution_count": 16,
   "metadata": {},
   "outputs": [
    {
     "name": "stdout",
     "output_type": "stream",
     "text": [
      "Hint: for better visibility, adjust layout parameters (e.g., layout_seed), supported layouts: ['spring', 'random']\n"
     ]
    },
    {
     "data": {
      "image/png": "[encoded data removed]",
      "text/plain": [
       "<Figure size 500x500 with 1 Axes>"
      ]
     },
     "metadata": {},
     "output_type": "display_data"
    }
   ],
   "source": [
    "cf_predict.plot_causal_graph(causal_matrix_dataframe=predicted_causal_matrix, \n",
    "                     layout=\"random\", \n",
    "                     layout_seed=51)"
   ]
  }
 ],
 "metadata": {
  "kernelspec": {
   "display_name": "local_venv",
   "language": "python",
   "name": "python3"
  },
  "language_info": {
   "codemirror_mode": {
    "name": "ipython",
    "version": 3
   },
   "file_extension": ".py",
   "mimetype": "text/x-python",
   "name": "python",
   "nbconvert_exporter": "python",
   "pygments_lexer": "ipython3",
   "version": "3.11.5"
  }
 },
 "nbformat": 4,
 "nbformat_minor": 2
}
